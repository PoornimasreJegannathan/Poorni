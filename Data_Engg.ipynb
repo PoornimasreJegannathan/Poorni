{
  "nbformat": 4,
  "nbformat_minor": 0,
  "metadata": {
    "colab": {
      "provenance": []
    },
    "kernelspec": {
      "name": "python3",
      "display_name": "Python 3"
    },
    "language_info": {
      "name": "python"
    }
  },
  "cells": [
    {
      "cell_type": "code",
      "execution_count": 2,
      "metadata": {
        "id": "4qc2u9avfXah"
      },
      "outputs": [],
      "source": [
        "# Import libraries\n",
        "import pandas as pd\n",
        "import matplotlib.pyplot as plt\n",
        "import numpy as np\n",
        "import seaborn as sns\n",
        "import missingno as msno\n",
        "import datetime as dt\n"
      ]
    },
    {
      "cell_type": "code",
      "source": [
        "url = 'https://raw.githubusercontent.com/PoornimasreJegannathan/Poorni/main/Copper_In_Set.csv'\n",
        "copin = pd.read_csv(url)\n",
        "copin.head()"
      ],
      "metadata": {
        "id": "XJi2aRTFes2C"
      },
      "execution_count": null,
      "outputs": []
    },
    {
      "cell_type": "code",
      "source": [
        "#airbnb['host_name'].isnull().sum() --checking missing values\n",
        "# copin_new=copin['id'].isnull().sum()\n",
        "# copin_new=copin['item_date'].isnull().sum()\n",
        "# copin_new=copin['customer'].isnull().sum()\n",
        "# copin_new=copin['country'].isnull().sum()\n",
        "# copin_new=copin['status'].isnull().sum()\n",
        "# copin_new=copin['application'].isnull().sum()\n",
        "# copin_new=copin['thickness'].isnull().sum()\n",
        "# copin_new=copin['material_ref'].isnull().sum()\n",
        "# copin_new=copin['delivery date'].isnull().sum()\n",
        "# copin_new=copin['selling_price'].isnull().sum()"
      ],
      "metadata": {
        "id": "-kVrfrvY6COr"
      },
      "execution_count": null,
      "outputs": []
    },
    {
      "cell_type": "code",
      "source": [
        "#check all col-parameters\n",
        "# len(copin['id'].unique())\n",
        "# len(copin['item_date'].unique())\n",
        "# len(copin['quantity tons'].unique())\n",
        "# len(copin['customer'].unique())\n",
        "# len(copin['country'].unique())\n",
        "# len(copin['status'].unique())\n",
        "# len(copin['item type'].unique())\n",
        "# len(copin['application'].unique())\n",
        "# len(copin['thickness'].unique())\n",
        "# len(copin['width'].unique())\n",
        "# len(copin['material_ref'].unique())\n",
        "# len(copin['product_ref'].unique())\n",
        "# len(copin['delivery date'].unique())\n",
        "# len(copin['selling_price'].unique())"
      ],
      "metadata": {
        "colab": {
          "base_uri": "https://localhost:8080/"
        },
        "id": "rFqmfKaEBTE7",
        "outputId": "b82da082-1379-470b-8b1b-0ceeea162e4d"
      },
      "execution_count": null,
      "outputs": [
        {
          "output_type": "execute_result",
          "data": {
            "text/plain": [
              "9"
            ]
          },
          "metadata": {},
          "execution_count": 111
        }
      ]
    },
    {
      "cell_type": "code",
      "source": [
        "#airbnb.dropna(subset='host_name', inplace=True)---drop missing values\n",
        "# copin1=copin.dropna(subset='id', inplace=True)\n",
        "# copin1=copin.dropna(subset='item_date', inplace=True)\n",
        "# copin1=copin.dropna(subset='customer', inplace=True)\n",
        "# copin1=copin.dropna(subset='country', inplace=True)\n",
        "# copin1=copin.dropna(subset='status', inplace=True)\n",
        "# copin1=copin.dropna(subset='application', inplace=True)\n",
        "# copin1=copin.dropna(subset='thickness', inplace=True)\n",
        "# copin1=copin.dropna(subset='material_ref', inplace=True)\n",
        "# copin1=copin.dropna(subset='delivery date', inplace=True)\n",
        "# copin1=copin.dropna(subset='selling_price', inplace=True)"
      ],
      "metadata": {
        "id": "3ehTD0u-UYQ9"
      },
      "execution_count": 31,
      "outputs": []
    },
    {
      "cell_type": "code",
      "source": [
        "(copin['status'].unique())"
      ],
      "metadata": {
        "colab": {
          "base_uri": "https://localhost:8080/"
        },
        "id": "0aPYQ2HIXr6s",
        "outputId": "1015f9fe-4a71-4f69-d109-a03f9163254e"
      },
      "execution_count": 58,
      "outputs": [
        {
          "output_type": "execute_result",
          "data": {
            "text/plain": [
              "array(['Won', 'Draft', 'To be approved', 'Lost', 'Not lost for AM',\n",
              "       'Revised', 'Offered', 'Offerable'], dtype=object)"
            ]
          },
          "metadata": {},
          "execution_count": 58
        }
      ]
    },
    {
      "cell_type": "code",
      "source": [
        "# NEW DATA FRAME CREATED to store the modified data set : copin_new\n",
        "# copin1=copin1.loc[~copin1['status'].str.contains('Draft')]\n",
        "# copin1=copin1.loc[~copin1['status'].str.contains('To be approved')]\n",
        "# copin1=copin1.loc[~copin1['status'].str.contains('Revised')]\n",
        "# copin1=copin1.loc[~copin1['status'].str.contains('Not lost for AM')]\n",
        "# copin1=copin1.loc[~copin1['status'].str.contains('Offered')]\n",
        "# copin1=copin1.loc[~copin1['status'].str.contains('Wonderful')]\n",
        "# copin1=copin1.loc[~copin1['status'].str.contains('Offerable')]\n",
        "# copin1=copin1.loc[~copin1['material_ref'].str.startswith('000000')]"
      ],
      "metadata": {
        "id": "KyebM3qSPpe4"
      },
      "execution_count": 56,
      "outputs": []
    },
    {
      "cell_type": "code",
      "source": [
        "# (copin_new['item type'].unique())\n",
        "(copin1['status'].unique())"
      ],
      "metadata": {
        "colab": {
          "base_uri": "https://localhost:8080/"
        },
        "id": "RwJFLtYxYQYo",
        "outputId": "860a4c4b-8709-4a68-9c7c-d29898f91fe3"
      },
      "execution_count": 59,
      "outputs": [
        {
          "output_type": "execute_result",
          "data": {
            "text/plain": [
              "array(['Won', 'Lost'], dtype=object)"
            ]
          },
          "metadata": {},
          "execution_count": 59
        }
      ]
    },
    {
      "cell_type": "code",
      "source": [
        "len(copin1['material_ref'].unique())"
      ],
      "metadata": {
        "colab": {
          "base_uri": "https://localhost:8080/"
        },
        "id": "DOrs6TfLdV2M",
        "outputId": "fbd9c94c-b685-4bb6-eeb8-d1355296091e"
      },
      "execution_count": 60,
      "outputs": [
        {
          "output_type": "execute_result",
          "data": {
            "text/plain": [
              "10870"
            ]
          },
          "metadata": {},
          "execution_count": 60
        }
      ]
    },
    {
      "cell_type": "code",
      "source": [
        "copin1.info()"
      ],
      "metadata": {
        "id": "1b0_7k1xdvmB",
        "colab": {
          "base_uri": "https://localhost:8080/"
        },
        "outputId": "8f043b1b-c235-4fe1-fcf3-6fc30c4c3721"
      },
      "execution_count": 61,
      "outputs": [
        {
          "output_type": "stream",
          "name": "stdout",
          "text": [
            "<class 'pandas.core.frame.DataFrame'>\n",
            "Index: 68029 entries, 0 to 181605\n",
            "Data columns (total 14 columns):\n",
            " #   Column         Non-Null Count  Dtype  \n",
            "---  ------         --------------  -----  \n",
            " 0   id             68029 non-null  object \n",
            " 1   item_date      68029 non-null  float64\n",
            " 2   quantity tons  68029 non-null  object \n",
            " 3   customer       68029 non-null  float64\n",
            " 4   country        68029 non-null  float64\n",
            " 5   status         68029 non-null  object \n",
            " 6   item type      68029 non-null  object \n",
            " 7   application    68029 non-null  float64\n",
            " 8   thickness      68029 non-null  float64\n",
            " 9   width          68029 non-null  float64\n",
            " 10  material_ref   68029 non-null  object \n",
            " 11  product_ref    68029 non-null  int64  \n",
            " 12  delivery date  68029 non-null  float64\n",
            " 13  selling_price  68029 non-null  float64\n",
            "dtypes: float64(8), int64(1), object(5)\n",
            "memory usage: 7.8+ MB\n"
          ]
        }
      ]
    },
    {
      "cell_type": "code",
      "source": [
        "copin1= copin1.rename(columns={'quantity tons':'quantity_tons','item type':'item_type','delivery date':'delivery_date'})"
      ],
      "metadata": {
        "id": "oTv_bBAumNGO"
      },
      "execution_count": 62,
      "outputs": []
    },
    {
      "cell_type": "code",
      "source": [
        "copin1['item_date']=pd.to_datetime(copin1['item_date'].astype(int).astype(str), format='%Y%m%d',errors='coerce')"
      ],
      "metadata": {
        "id": "vbPvvvwWoHbX"
      },
      "execution_count": 63,
      "outputs": []
    },
    {
      "cell_type": "code",
      "source": [
        "copin1['delivery_date']=pd.to_datetime(copin1['delivery_date'].astype(int).astype(str), format='%Y%m%d',errors='coerce')"
      ],
      "metadata": {
        "id": "mGvLWZdpof0O"
      },
      "execution_count": 70,
      "outputs": []
    },
    {
      "cell_type": "code",
      "source": [
        "copin1.info()"
      ],
      "metadata": {
        "colab": {
          "base_uri": "https://localhost:8080/"
        },
        "id": "Hiy5GPC4okQP",
        "outputId": "c55af49e-a915-4942-f983-7f8823a97a7d"
      },
      "execution_count": 71,
      "outputs": [
        {
          "output_type": "stream",
          "name": "stdout",
          "text": [
            "<class 'pandas.core.frame.DataFrame'>\n",
            "Index: 68028 entries, 0 to 181605\n",
            "Data columns (total 14 columns):\n",
            " #   Column         Non-Null Count  Dtype         \n",
            "---  ------         --------------  -----         \n",
            " 0   id             68028 non-null  object        \n",
            " 1   item_date      68028 non-null  datetime64[ns]\n",
            " 2   quantity_tons  68028 non-null  object        \n",
            " 3   customer       68028 non-null  float64       \n",
            " 4   country        68028 non-null  float64       \n",
            " 5   status         68028 non-null  object        \n",
            " 6   item_type      68028 non-null  object        \n",
            " 7   application    68028 non-null  float64       \n",
            " 8   thickness      68028 non-null  float64       \n",
            " 9   width          68028 non-null  float64       \n",
            " 10  material_ref   68028 non-null  object        \n",
            " 11  product_ref    68028 non-null  int64         \n",
            " 12  delivery_date  68028 non-null  datetime64[ns]\n",
            " 13  selling_price  68028 non-null  float64       \n",
            "dtypes: datetime64[ns](2), float64(6), int64(1), object(5)\n",
            "memory usage: 7.8+ MB\n"
          ]
        }
      ]
    },
    {
      "cell_type": "code",
      "source": [
        "copin1=copin1.dropna(subset=['item_date'])"
      ],
      "metadata": {
        "id": "gGBX3MfQED9B"
      },
      "execution_count": 72,
      "outputs": []
    },
    {
      "cell_type": "code",
      "source": [
        "copin1=copin1.dropna(subset=['delivery_date'])"
      ],
      "metadata": {
        "id": "SOr3Y1S4ykYu"
      },
      "execution_count": 73,
      "outputs": []
    },
    {
      "cell_type": "code",
      "source": [
        "copin1.info()"
      ],
      "metadata": {
        "colab": {
          "base_uri": "https://localhost:8080/"
        },
        "id": "yQVJ3wbRY9lK",
        "outputId": "7d75bc50-d459-490b-eb5e-0749f84a488a"
      },
      "execution_count": 84,
      "outputs": [
        {
          "output_type": "stream",
          "name": "stdout",
          "text": [
            "<class 'pandas.core.frame.DataFrame'>\n",
            "Index: 68028 entries, 0 to 181605\n",
            "Data columns (total 14 columns):\n",
            " #   Column         Non-Null Count  Dtype         \n",
            "---  ------         --------------  -----         \n",
            " 0   id             68028 non-null  object        \n",
            " 1   item_date      68028 non-null  datetime64[ns]\n",
            " 2   quantity_tons  68028 non-null  object        \n",
            " 3   customer       68028 non-null  float64       \n",
            " 4   country        68028 non-null  float64       \n",
            " 5   status         68028 non-null  object        \n",
            " 6   item_type      68028 non-null  object        \n",
            " 7   application    68028 non-null  float64       \n",
            " 8   thickness      68028 non-null  float64       \n",
            " 9   width          68028 non-null  float64       \n",
            " 10  material_ref   68028 non-null  object        \n",
            " 11  product_ref    68028 non-null  int64         \n",
            " 12  delivery_date  68028 non-null  datetime64[ns]\n",
            " 13  selling_price  68028 non-null  float64       \n",
            "dtypes: datetime64[ns](2), float64(6), int64(1), object(5)\n",
            "memory usage: 7.8+ MB\n"
          ]
        }
      ]
    },
    {
      "cell_type": "code",
      "source": [
        "len(copin1['material_ref'].unique())"
      ],
      "metadata": {
        "colab": {
          "base_uri": "https://localhost:8080/"
        },
        "id": "GBRRbvKp1TDI",
        "outputId": "db4303fa-331c-45fe-fbd4-3e50f56f17e3"
      },
      "execution_count": 82,
      "outputs": [
        {
          "output_type": "execute_result",
          "data": {
            "text/plain": [
              "10870"
            ]
          },
          "metadata": {},
          "execution_count": 82
        }
      ]
    },
    {
      "cell_type": "code",
      "source": [
        "copin1.to_csv('copin_modi.csv', index=False,header=True)"
      ],
      "metadata": {
        "id": "etsPAvE2c9DM"
      },
      "execution_count": 77,
      "outputs": []
    },
    {
      "cell_type": "code",
      "source": [
        "from google.colab import files\n",
        "files.download('copin_modi.csv')"
      ],
      "metadata": {
        "colab": {
          "base_uri": "https://localhost:8080/",
          "height": 17
        },
        "id": "6GTOUyLAfGCE",
        "outputId": "59996c52-538c-4026-d84a-9a29133c696b"
      },
      "execution_count": 78,
      "outputs": [
        {
          "output_type": "display_data",
          "data": {
            "text/plain": [
              "<IPython.core.display.Javascript object>"
            ],
            "application/javascript": [
              "\n",
              "    async function download(id, filename, size) {\n",
              "      if (!google.colab.kernel.accessAllowed) {\n",
              "        return;\n",
              "      }\n",
              "      const div = document.createElement('div');\n",
              "      const label = document.createElement('label');\n",
              "      label.textContent = `Downloading \"${filename}\": `;\n",
              "      div.appendChild(label);\n",
              "      const progress = document.createElement('progress');\n",
              "      progress.max = size;\n",
              "      div.appendChild(progress);\n",
              "      document.body.appendChild(div);\n",
              "\n",
              "      const buffers = [];\n",
              "      let downloaded = 0;\n",
              "\n",
              "      const channel = await google.colab.kernel.comms.open(id);\n",
              "      // Send a message to notify the kernel that we're ready.\n",
              "      channel.send({})\n",
              "\n",
              "      for await (const message of channel.messages) {\n",
              "        // Send a message to notify the kernel that we're ready.\n",
              "        channel.send({})\n",
              "        if (message.buffers) {\n",
              "          for (const buffer of message.buffers) {\n",
              "            buffers.push(buffer);\n",
              "            downloaded += buffer.byteLength;\n",
              "            progress.value = downloaded;\n",
              "          }\n",
              "        }\n",
              "      }\n",
              "      const blob = new Blob(buffers, {type: 'application/binary'});\n",
              "      const a = document.createElement('a');\n",
              "      a.href = window.URL.createObjectURL(blob);\n",
              "      a.download = filename;\n",
              "      div.appendChild(a);\n",
              "      a.click();\n",
              "      div.remove();\n",
              "    }\n",
              "  "
            ]
          },
          "metadata": {}
        },
        {
          "output_type": "display_data",
          "data": {
            "text/plain": [
              "<IPython.core.display.Javascript object>"
            ],
            "application/javascript": [
              "download(\"download_af885cac-28e7-4266-bfd4-69cb92861d1c\", \"copin_modi.csv\", 9517127)"
            ]
          },
          "metadata": {}
        }
      ]
    }
  ]
}